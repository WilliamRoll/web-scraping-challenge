{
 "cells": [
  {
   "cell_type": "code",
   "execution_count": 1,
   "metadata": {},
   "outputs": [],
   "source": [
    "from bs4 import BeautifulSoup\n",
    "import requests\n",
    "import pymongo\n",
    "import pandas as pd\n",
    "from splinter import Browser"
   ]
  },
  {
   "cell_type": "code",
   "execution_count": 2,
   "metadata": {},
   "outputs": [],
   "source": [
    "# Initialize PyMongo to work with MongoDBs\n",
    "conn = 'mongodb://localhost:27017'\n",
    "client = pymongo.MongoClient(conn)"
   ]
  },
  {
   "cell_type": "code",
   "execution_count": 3,
   "metadata": {},
   "outputs": [],
   "source": [
    "executable_path = {'executable_path': 'chromedriver.exe'}\n",
    "browser = Browser('chrome', **executable_path, headless=False)"
   ]
  },
  {
   "cell_type": "code",
   "execution_count": null,
   "metadata": {},
   "outputs": [],
   "source": [
    "url = \"https://mars.nasa.gov/news/?page=0&per_page=40&order=publish_date+desc%2Ccreated_at+desc&search=&category=19%2C165%2C184%2C204&blank_scope=Latest\"\n",
    "browser.visit(url)"
   ]
  },
  {
   "cell_type": "code",
   "execution_count": null,
   "metadata": {},
   "outputs": [],
   "source": [
    "html = browser.html\n",
    "soup = BeautifulSoup(html, 'html.parser')\n",
    "\n",
    "content_title = soup.find_all('div', class_='content_title')\n",
    "teaser_body = soup.find_all('div', class_='article_teaser_body')\n",
    "\n",
    "article_header_ls = []\n",
    "article_body_ls = []\n",
    "\n",
    "for title in content_title:\n",
    "    \n",
    "    art_title = title.find_all('a')\n",
    "    \n",
    "    for art in art_title:\n",
    "        first_title = art.text.strip()\n",
    "        article_header_ls.append(first_title)\n",
    "        \n",
    "for body in teaser_body:\n",
    "    body = body.text.strip()\n",
    "    article_body_ls.append(body)\n",
    "    \n",
    "article_1_header = article_header_ls[0]\n",
    "article_1_body = article_body_ls[0]\n",
    "\n",
    "print(article_1_header)\n",
    "print(article_1_body)"
   ]
  },
  {
   "cell_type": "code",
   "execution_count": 4,
   "metadata": {},
   "outputs": [],
   "source": [
    "url_2 = \"https://www.jpl.nasa.gov/spaceimages/?search=&category=Mars\"\n",
    "browser.visit(url_2)"
   ]
  },
  {
   "cell_type": "code",
   "execution_count": 5,
   "metadata": {},
   "outputs": [],
   "source": [
    "html_2 = browser.html\n",
    "soup_2 = BeautifulSoup(html_2, 'html.parser')\n",
    "\n",
    "pass_through = soup_2.find_all('a', class_='button fancybox')\n",
    "   \n",
    "#relative_img_path = soup.find_all('footer', class_='button fancybox')\n",
    "#path_ls.append(relative_img_path)\n",
    "#featured_image_url = url_2 + relative_img_path\n",
    "browser.find_by_id('full_image').first.click()"
   ]
  },
  {
   "cell_type": "code",
   "execution_count": 23,
   "metadata": {},
   "outputs": [],
   "source": [
    "images = soup_2.find_all('div', class_='fancybox-inner fancybox-skin fancybox-dark-skin fancybox-dark-skin-open')\n",
    "\n",
    "image_paths = []\n",
    "\n",
    "for image in images:\n",
    "    \n",
    "    relative_img_path = soup_2.find_all('img')[\"src\"]\n",
    "    #image_paths.append(image)\n",
    "    #featured_image_url = url_2 + relative_img_path\n",
    "    \n",
    "#relative_img = image_paths\n",
    "#print(relative_img)"
   ]
  },
  {
   "cell_type": "code",
   "execution_count": null,
   "metadata": {},
   "outputs": [],
   "source": []
  }
 ],
 "metadata": {
  "kernelspec": {
   "display_name": "Python 3",
   "language": "python",
   "name": "python3"
  },
  "language_info": {
   "codemirror_mode": {
    "name": "ipython",
    "version": 3
   },
   "file_extension": ".py",
   "mimetype": "text/x-python",
   "name": "python",
   "nbconvert_exporter": "python",
   "pygments_lexer": "ipython3",
   "version": "3.6.10"
  }
 },
 "nbformat": 4,
 "nbformat_minor": 4
}
